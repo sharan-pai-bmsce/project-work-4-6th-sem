{
 "cells": [
  {
   "cell_type": "code",
   "execution_count": 76,
   "metadata": {},
   "outputs": [],
   "source": [
    "import json\n",
    "import numpy as np\n",
    "from shapely.geometry import Point\n",
    "from shapely.geometry.polygon import Polygon\n",
    "from shapely.geometry import shape\n",
    "import pandas as pd"
   ]
  },
  {
   "cell_type": "code",
   "execution_count": null,
   "metadata": {},
   "outputs": [],
   "source": []
  },
  {
   "cell_type": "code",
   "execution_count": 77,
   "metadata": {},
   "outputs": [],
   "source": [
    "precincts=json.load(open('first-phase/Boston/Boston Police Districts.geojson','r'))\n",
    "# precincts=precincts['features']\n",
    "# print(len(precincts))\n",
    "\n",
    "polygons=[]\n",
    "# precincts[0]\n",
    "cx,cy=0,0\n",
    "for precinct in precincts['features']:\n",
    "  precinct['precinct']=precinct['properties']['precinct']\n",
    "  polygons.append([shape(precinct['geometry']),precinct['properties']['precinct']])\n",
    "\n",
    "long=0\n",
    "lat=0\n",
    "for p in polygons:\n",
    "  cord=p[0].centroid.coords[0]\n",
    "  long+=cord[0]\n",
    "  lat+=cord[1]\n",
    "long/=len(polygons)\n",
    "lat/=len(polygons)\n",
    "with open('./boston.json','w') as file:\n",
    "  json.dump({\n",
    "    \"latitude\": lat, \n",
    "    \"longitude\": long,\n",
    "  },file)\n",
    "# precincts['features']\n",
    "# polygons[0][0].centroid.coords[0]"
   ]
  },
  {
   "cell_type": "code",
   "execution_count": 78,
   "metadata": {},
   "outputs": [],
   "source": [
    "df=pd.read_csv('./first-phase/Boston/Boston Db.csv')\n",
    "#prev_crime_data=pd.read_csv('./seattle-precinct-wise-dataset.csv')\n",
    "df=df[0:50000]\n",
    "list1=[]\n",
    "for polygon in polygons:\n",
    "  c=0\n",
    "  count={'precinct': polygon[1],'total':0}\n",
    "  # count=0\n",
    "  for index,row in df.iterrows():\n",
    "    if polygon[0].contains(Point(row['Longitude'],row['Latitude'])):\n",
    "      if row['Offence'] not in count:\n",
    "        count[row['Offence']]=0\n",
    "      count[row['Offence']]+=1\n",
    "      count['total']+=1\n",
    "  list1.append(count)"
   ]
  },
  {
   "cell_type": "code",
   "execution_count": 79,
   "metadata": {},
   "outputs": [
    {
     "name": "stdout",
     "output_type": "stream",
     "text": [
      "  precinct  total  Theft  Others  Accident  Murder  Fraud  Robbery  \\\n",
      "0     0113    143   12.0    67.0      26.0     1.0    6.0      1.0   \n",
      "1     0102     71    5.0    39.0       5.0     NaN    2.0      1.0   \n",
      "2     0105    131   11.0    77.0      12.0     3.0    1.0      3.0   \n",
      "3     0203     41    4.0    21.0       2.0     NaN    NaN      2.0   \n",
      "4     0205     36    8.0    19.0       1.0     1.0    NaN      NaN   \n",
      "\n",
      "   Public Nuisance  Assault  Arson  Drugs  Missing  Sex Crime  Gun Violence  \n",
      "0             16.0     12.0    1.0    1.0      NaN        NaN           NaN  \n",
      "1              9.0     10.0    NaN    NaN      NaN        NaN           NaN  \n",
      "2             12.0      7.0    2.0    NaN      3.0        NaN           NaN  \n",
      "3             10.0      2.0    NaN    NaN      NaN        NaN           NaN  \n",
      "4              5.0      1.0    1.0    NaN      NaN        NaN           NaN  \n"
     ]
    }
   ],
   "source": [
    "# list1\n",
    "crime_data=pd.DataFrame.from_dict(list1)\n",
    "#prev_crime_data=pd.read_csv('./nyc-precinct-wise-dataset.csv')\n",
    "#prev_crime_data=prev_crime_data.iloc[:,1:]\n",
    "#print(prev_crime_data.head())\n",
    "print(crime_data.head())\n",
    "# crime_data.to_csv('wdc-precinct-wise-dataset.csv')"
   ]
  },
  {
   "cell_type": "code",
   "execution_count": 80,
   "metadata": {},
   "outputs": [
    {
     "name": "stdout",
     "output_type": "stream",
     "text": [
      "0       0113\n",
      "1       0102\n",
      "2       0105\n",
      "3       0203\n",
      "4       0205\n",
      "       ...  \n",
      "250     1818\n",
      "251    0502A\n",
      "252     0115\n",
      "253     0104\n",
      "254     2002\n",
      "Name: precinct, Length: 255, dtype: object\n",
      "   total  Theft  Others  Accident  Murder  Fraud  Robbery  Public Nuisance  \\\n",
      "0    143   12.0    67.0      26.0     1.0    6.0      1.0             16.0   \n",
      "1     71    5.0    39.0       5.0     0.0    2.0      1.0              9.0   \n",
      "2    131   11.0    77.0      12.0     3.0    1.0      3.0             12.0   \n",
      "3     41    4.0    21.0       2.0     0.0    0.0      2.0             10.0   \n",
      "4     36    8.0    19.0       1.0     1.0    0.0      0.0              5.0   \n",
      "\n",
      "   Assault  Arson  Drugs  Missing  Sex Crime  Gun Violence  \n",
      "0     12.0    1.0    1.0      0.0        0.0           0.0  \n",
      "1     10.0    0.0    0.0      0.0        0.0           0.0  \n",
      "2      7.0    2.0    0.0      3.0        0.0           0.0  \n",
      "3      2.0    0.0    0.0      0.0        0.0           0.0  \n",
      "4      1.0    1.0    0.0      0.0        0.0           0.0  \n"
     ]
    }
   ],
   "source": [
    "precincts=crime_data.iloc[:,0]\n",
    "print(precincts)\n",
    "temp1=crime_data.iloc[:,1:].fillna(0)\n",
    "#temp2=prev_crime_data.iloc[:,1:].fillna(0)\n",
    "print(temp1.head())\n",
    "#print(temp2.head())\n",
    "#x=temp1.add(temp2)\n",
    "#x['precinct']=precincts\n",
    "# x\n",
    "crime_data.to_csv('boston-precinct-wise-dataset.csv')"
   ]
  },
  {
   "cell_type": "code",
   "execution_count": 5,
   "metadata": {},
   "outputs": [],
   "source": [
    "import plotly.express as px\n",
    "import plotly.io as pio\n",
    "pio.renderers.default='chrome'\n",
    "crime_data=pd.read_csv('seattle-precinct-wise-dataset.csv')\n",
    "data=json.load(open('./seattle.json'))\n",
    "lat=data['latitude']\n",
    "long=data['longitude']"
   ]
  },
  {
   "cell_type": "code",
   "execution_count": 6,
   "metadata": {},
   "outputs": [],
   "source": [
    "fig=px.choropleth_mapbox(crime_data,locations='precinct',featureidkey=\"properties.precinct\",geojson=precincts,color='total',color_continuous_scale='ylorrd')\n",
    "# fig.update_geos(fitbounds=\"locations\", visible=False)\n",
    "fig.update_layout(mapbox_style=\"carto-positron\", \n",
    "                  mapbox_zoom=9.5,\n",
    "                  mapbox_center={\"lat\": lat, \"lon\": long},\n",
    "                  margin={\"r\":0,\"t\":0,\"l\":0,\"b\":0},\n",
    "                  uirevision='constant')\n",
    "fig.write_html('first_figure-3.html')"
   ]
  },
  {
   "cell_type": "code",
   "execution_count": 24,
   "metadata": {},
   "outputs": [],
   "source": [
    "\n"
   ]
  }
 ],
 "metadata": {
  "kernelspec": {
   "display_name": "Python 3.10.0 64-bit (system)",
   "language": "python",
   "name": "python3"
  },
  "language_info": {
   "codemirror_mode": {
    "name": "ipython",
    "version": 3
   },
   "file_extension": ".py",
   "mimetype": "text/x-python",
   "name": "python",
   "nbconvert_exporter": "python",
   "pygments_lexer": "ipython3",
   "version": "3.10.0"
  },
  "orig_nbformat": 4,
  "vscode": {
   "interpreter": {
    "hash": "d3e10ef16274dd72e574b8fa73b58450b957d8421a2901baded3cca26fcf5dda"
   }
  }
 },
 "nbformat": 4,
 "nbformat_minor": 2
}
