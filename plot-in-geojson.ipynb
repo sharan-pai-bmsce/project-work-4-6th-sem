{
 "cells": [
  {
   "cell_type": "code",
   "execution_count": 21,
   "metadata": {},
   "outputs": [],
   "source": [
    "import json\n",
    "import numpy as np\n",
    "from shapely.geometry import Point\n",
    "from shapely.geometry.polygon import Polygon\n",
    "from shapely.geometry import shape\n",
    "import pandas as pd"
   ]
  },
  {
   "cell_type": "code",
   "execution_count": null,
   "metadata": {},
   "outputs": [],
   "source": []
  },
  {
   "cell_type": "code",
   "execution_count": 22,
   "metadata": {},
   "outputs": [],
   "source": [
    "precincts=json.load(open('first-phase/Washington DC/WashingtonDC-precinct.geojson','r'))\n",
    "# precincts=precincts['features']\n",
    "# print(len(precincts))\n",
    "\n",
    "polygons=[]\n",
    "# precincts[0]\n",
    "cx,cy=0,0\n",
    "for precinct in precincts['features']:\n",
    "  precinct['precinct']=precinct['properties']['precinct']\n",
    "  polygons.append([shape(precinct['geometry']),precinct['properties']['precinct']])\n",
    "\n",
    "long=0\n",
    "lat=0\n",
    "for p in polygons:\n",
    "  cord=p[0].centroid.coords[0]\n",
    "  long+=cord[0]\n",
    "  lat+=cord[1]\n",
    "long/=len(polygons)\n",
    "lat/=len(polygons)\n",
    "with open('./washington-city.json','w') as file:\n",
    "  json.dump({\n",
    "    \"latitude\": lat, \n",
    "    \"longitude\": long,\n",
    "  },file)\n",
    "# precincts['features']\n",
    "# polygons[0][0].centroid.coords[0]"
   ]
  },
  {
   "cell_type": "code",
   "execution_count": 63,
   "metadata": {},
   "outputs": [],
   "source": [
    "df=pd.read_csv('./first-phase/Washington DC/Washington DC Db.csv')\n",
    "prev_crime_data=pd.read_csv('./wdc-precinct-wise-dataset.csv')\n",
    "df=df[20001:30000]\n",
    "list1=[]\n",
    "for polygon in polygons:\n",
    "  c=0\n",
    "  count={'precinct': polygon[1],'total':0}\n",
    "  # count=0\n",
    "  for index,row in df.iterrows():\n",
    "    if polygon[0].contains(Point(row['Longitude'],row['Latitude'])):\n",
    "      if row['Offence'] not in count:\n",
    "        count[row['Offence']]=0\n",
    "      count[row['Offence']]+=1\n",
    "      count['total']+=1\n",
    "  list1.append(count)"
   ]
  },
  {
   "cell_type": "code",
   "execution_count": 67,
   "metadata": {},
   "outputs": [
    {
     "name": "stdout",
     "output_type": "stream",
     "text": [
      "   Arson  Assault  Murder  Robbery  Sex Crime  Theft  total  Precinct\n",
      "0    0.0     12.0     2.0       89        2.0    278    383       401\n",
      "1    0.0      1.0     0.0       20        0.0    107    128       201\n",
      "2    0.0      7.0     2.0       60        1.0    210    280       406\n",
      "3    0.0      9.0     2.0       49        3.0    181    244       402\n",
      "4    0.0      5.0     0.0       62        3.0    218    288       202\n",
      "   precinct  total  Theft  Robbery  Assault  Murder  Sex Crime  Arson\n",
      "0       401    183    140       39      4.0     NaN        NaN    NaN\n",
      "1       201     76     57       17      2.0     NaN        NaN    NaN\n",
      "2       406    144    108       29      5.0     1.0        1.0    NaN\n",
      "3       402    114     90       20      4.0     NaN        NaN    NaN\n",
      "4       202    140    110       29      1.0     NaN        NaN    NaN\n"
     ]
    }
   ],
   "source": [
    "# list1\n",
    "crime_data=pd.DataFrame.from_dict(list1)\n",
    "prev_crime_data=pd.read_csv('./wdc-precinct-wise-dataset.csv')\n",
    "prev_crime_data=prev_crime_data.iloc[:,1:]\n",
    "print(prev_crime_data.head())\n",
    "print(crime_data.head())\n",
    "# crime_data.to_csv('wdc-precinct-wise-dataset.csv')"
   ]
  },
  {
   "cell_type": "code",
   "execution_count": 79,
   "metadata": {},
   "outputs": [
    {
     "name": "stdout",
     "output_type": "stream",
     "text": [
      "   total  Theft  Robbery  Assault  Murder  Sex Crime  Arson\n",
      "0    183    140       39      4.0     0.0        0.0    0.0\n",
      "1     76     57       17      2.0     0.0        0.0    0.0\n",
      "2    144    108       29      5.0     1.0        1.0    0.0\n",
      "3    114     90       20      4.0     0.0        0.0    0.0\n",
      "4    140    110       29      1.0     0.0        0.0    0.0\n",
      "   Arson  Assault  Murder  Robbery  Sex Crime  Theft  total\n",
      "0    0.0     12.0     2.0       89        2.0    278    383\n",
      "1    0.0      1.0     0.0       20        0.0    107    128\n",
      "2    0.0      7.0     2.0       60        1.0    210    280\n",
      "3    0.0      9.0     2.0       49        3.0    181    244\n",
      "4    0.0      5.0     0.0       62        3.0    218    288\n"
     ]
    }
   ],
   "source": [
    "precincts=crime_data.iloc[:,0]\n",
    "# print(precincts)\n",
    "temp1=crime_data.iloc[:,1:].fillna(0)\n",
    "temp2=prev_crime_data.iloc[:,:-1].fillna(0)\n",
    "print(temp1.head())\n",
    "print(temp2.head())\n",
    "x=temp1.add(temp2)\n",
    "x['precinct']=precincts\n",
    "# x\n",
    "x.to_csv('wdc-precinct-wise-dataset.csv')"
   ]
  },
  {
   "cell_type": "code",
   "execution_count": 5,
   "metadata": {},
   "outputs": [],
   "source": [
    "import plotly.express as px\n",
    "import plotly.io as pio\n",
    "pio.renderers.default='chrome'\n",
    "crime_data=pd.read_csv('seattle-precinct-wise-dataset.csv')\n",
    "data=json.load(open('./seattle.json'))\n",
    "lat=data['latitude']\n",
    "long=data['longitude']"
   ]
  },
  {
   "cell_type": "code",
   "execution_count": 6,
   "metadata": {},
   "outputs": [],
   "source": [
    "fig=px.choropleth_mapbox(crime_data,locations='precinct',featureidkey=\"properties.precinct\",geojson=precincts,color='total',color_continuous_scale='ylorrd')\n",
    "# fig.update_geos(fitbounds=\"locations\", visible=False)\n",
    "fig.update_layout(mapbox_style=\"carto-positron\", \n",
    "                  mapbox_zoom=9.5,\n",
    "                  mapbox_center={\"lat\": lat, \"lon\": long},\n",
    "                  margin={\"r\":0,\"t\":0,\"l\":0,\"b\":0},\n",
    "                  uirevision='constant')\n",
    "fig.write_html('first_figure-3.html')"
   ]
  },
  {
   "cell_type": "code",
   "execution_count": 24,
   "metadata": {},
   "outputs": [],
   "source": [
    "\n"
   ]
  }
 ],
 "metadata": {
  "interpreter": {
   "hash": "52634da84371cba311ea128a5ea7cdc41ff074b781779e754b270ff9f8153cee"
  },
  "kernelspec": {
   "display_name": "Python 3.10.4 64-bit",
   "language": "python",
   "name": "python3"
  },
  "language_info": {
   "codemirror_mode": {
    "name": "ipython",
    "version": 3
   },
   "file_extension": ".py",
   "mimetype": "text/x-python",
   "name": "python",
   "nbconvert_exporter": "python",
   "pygments_lexer": "ipython3",
   "version": "3.10.5"
  },
  "orig_nbformat": 4
 },
 "nbformat": 4,
 "nbformat_minor": 2
}
