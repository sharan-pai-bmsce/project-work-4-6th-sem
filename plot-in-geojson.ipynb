{
 "cells": [
  {
   "cell_type": "code",
   "execution_count": 1,
   "metadata": {},
   "outputs": [],
   "source": [
    "import json\n",
    "import numpy as np\n",
    "from shapely.geometry import Point\n",
    "from shapely.geometry.polygon import Polygon\n",
    "from shapely.geometry import shape\n",
    "import pandas as pd"
   ]
  },
  {
   "cell_type": "code",
   "execution_count": null,
   "metadata": {},
   "outputs": [],
   "source": []
  },
  {
   "cell_type": "code",
   "execution_count": 2,
   "metadata": {},
   "outputs": [],
   "source": [
    "precincts=json.load(open('first-phase/Seattle/Seattle-prcinct.geojson','r'))\n",
    "# precincts=precincts['features']\n",
    "# print(len(precincts))\n",
    "\n",
    "polygons=[]\n",
    "# precincts[0]\n",
    "cx,cy=0,0\n",
    "for precinct in precincts['features']:\n",
    "  precinct['precinct']=precinct['properties']['precinct']\n",
    "  polygons.append([shape(precinct['geometry']),precinct['properties']['precinct']])\n",
    "\n",
    "long=0\n",
    "lat=0\n",
    "for p in polygons:\n",
    "  cord=p[0].centroid.coords[0]\n",
    "  long+=cord[0]\n",
    "  lat+=cord[1]\n",
    "long/=len(polygons)\n",
    "lat/=len(polygons)\n",
    "# precincts['features']\n",
    "# polygons[0][0].centroid.coords[0]"
   ]
  },
  {
   "cell_type": "code",
   "execution_count": 11,
   "metadata": {},
   "outputs": [],
   "source": [
    "df=pd.read_csv('./first-phase/Seattle/Seattle Db.csv')\n",
    "prev_crime_data=pd.read_csv('./seattle-precinct-wise-dataset.csv')\n",
    "df=df[10001:20000]\n",
    "list1=[]\n",
    "for polygon in polygons:\n",
    "  c=0\n",
    "  count={'precinct': polygon[1],'total':0}\n",
    "  # count=0\n",
    "  for index,row in df.iterrows():\n",
    "    if polygon[0].contains(Point(row['Longitude'],row['Latitude'])):\n",
    "      if row['Offence'] not in count:\n",
    "        count[row['Offence']]=0\n",
    "      count[row['Offence']]+=1\n",
    "      count['total']+=1\n",
    "      # df.drop(index)\n",
    "  list1.append(count)"
   ]
  },
  {
   "cell_type": "code",
   "execution_count": 23,
   "metadata": {},
   "outputs": [
    {
     "name": "stdout",
     "output_type": "stream",
     "text": [
      "   Unnamed: 0         precinct  total  Theft  Public Nuisance  Fraud  \\\n",
      "0           0  ALASKA JUNCTION    193    122             30.0   19.0   \n",
      "\n",
      "   Traffic Law  Robbery  Drugs  Gun Violence  Others  Harrassment  Arson  \\\n",
      "0         15.0      5.0    1.0           1.0     NaN          NaN    NaN   \n",
      "\n",
      "   Sex Crime  \n",
      "0        NaN  \n",
      "          precinct  total  Public Nuisance  Traffic Law  Theft  Fraud  Others  \\\n",
      "0  ALASKA JUNCTION    130             21.0          6.0     80   13.0     2.0   \n",
      "\n",
      "   Robbery  Sex Crime  Gun Violence  Harrassment  Arson  Drugs  \n",
      "0      4.0        1.0           2.0          1.0    NaN    NaN  \n"
     ]
    },
    {
     "data": {
      "text/html": [
       "<div>\n",
       "<style scoped>\n",
       "    .dataframe tbody tr th:only-of-type {\n",
       "        vertical-align: middle;\n",
       "    }\n",
       "\n",
       "    .dataframe tbody tr th {\n",
       "        vertical-align: top;\n",
       "    }\n",
       "\n",
       "    .dataframe thead th {\n",
       "        text-align: right;\n",
       "    }\n",
       "</style>\n",
       "<table border=\"1\" class=\"dataframe\">\n",
       "  <thead>\n",
       "    <tr style=\"text-align: right;\">\n",
       "      <th></th>\n",
       "      <th>Arson</th>\n",
       "      <th>Drugs</th>\n",
       "      <th>Fraud</th>\n",
       "      <th>Gun Violence</th>\n",
       "      <th>Harrassment</th>\n",
       "      <th>Others</th>\n",
       "      <th>Public Nuisance</th>\n",
       "      <th>Robbery</th>\n",
       "      <th>Sex Crime</th>\n",
       "      <th>Theft</th>\n",
       "      <th>Traffic Law</th>\n",
       "      <th>Unnamed: 0</th>\n",
       "      <th>precinct</th>\n",
       "      <th>total</th>\n",
       "    </tr>\n",
       "  </thead>\n",
       "  <tbody>\n",
       "    <tr>\n",
       "      <th>0</th>\n",
       "      <td>NaN</td>\n",
       "      <td>NaN</td>\n",
       "      <td>32.0</td>\n",
       "      <td>3.0</td>\n",
       "      <td>NaN</td>\n",
       "      <td>NaN</td>\n",
       "      <td>51.0</td>\n",
       "      <td>9.0</td>\n",
       "      <td>NaN</td>\n",
       "      <td>202</td>\n",
       "      <td>21.0</td>\n",
       "      <td>NaN</td>\n",
       "      <td>ALASKA JUNCTIONALASKA JUNCTION</td>\n",
       "      <td>323</td>\n",
       "    </tr>\n",
       "  </tbody>\n",
       "</table>\n",
       "</div>"
      ],
      "text/plain": [
       "   Arson  Drugs  Fraud  Gun Violence  Harrassment  Others  Public Nuisance  \\\n",
       "0    NaN    NaN   32.0           3.0          NaN     NaN             51.0   \n",
       "\n",
       "   Robbery  Sex Crime  Theft  Traffic Law  Unnamed: 0  \\\n",
       "0      9.0        NaN    202         21.0         NaN   \n",
       "\n",
       "                         precinct  total  \n",
       "0  ALASKA JUNCTIONALASKA JUNCTION    323  "
      ]
     },
     "execution_count": 23,
     "metadata": {},
     "output_type": "execute_result"
    }
   ],
   "source": [
    "# list1\n",
    "crime_data=pd.DataFrame.from_dict(list1)\n",
    "print(prev_crime_data.head(1))\n",
    "print(crime_data.head(1))\n",
    "x=crime_data.head(1).add(prev_crime_data.head(1))\n",
    "x\n",
    "# crime_data.to_csv('seattle-precinct-wise-dataset.csv')"
   ]
  },
  {
   "cell_type": "code",
   "execution_count": 9,
   "metadata": {},
   "outputs": [],
   "source": [
    "import plotly.express as px\n",
    "import plotly.io as pio\n",
    "pio.renderers.default='chrome'\n",
    "crime_data=pd.read_csv('seattle-precinct-wise-dataset.csv')"
   ]
  },
  {
   "cell_type": "code",
   "execution_count": 10,
   "metadata": {},
   "outputs": [],
   "source": [
    "fig=px.choropleth_mapbox(crime_data,locations='precinct',featureidkey=\"properties.precinct\",geojson=precincts,color='total',color_continuous_scale='ylorrd')\n",
    "# fig.update_geos(fitbounds=\"locations\", visible=False)\n",
    "fig.update_layout(mapbox_style=\"carto-positron\", \n",
    "                  mapbox_zoom=9.5,\n",
    "                  mapbox_center={\"lat\": lat, \"lon\": long},\n",
    "                  margin={\"r\":0,\"t\":0,\"l\":0,\"b\":0},\n",
    "                  uirevision='constant')\n",
    "fig.write_html('first_figure-3.html')"
   ]
  },
  {
   "cell_type": "code",
   "execution_count": 24,
   "metadata": {},
   "outputs": [],
   "source": [
    "\n"
   ]
  }
 ],
 "metadata": {
  "interpreter": {
   "hash": "52634da84371cba311ea128a5ea7cdc41ff074b781779e754b270ff9f8153cee"
  },
  "kernelspec": {
   "display_name": "Python 3.10.4 64-bit",
   "language": "python",
   "name": "python3"
  },
  "language_info": {
   "codemirror_mode": {
    "name": "ipython",
    "version": 3
   },
   "file_extension": ".py",
   "mimetype": "text/x-python",
   "name": "python",
   "nbconvert_exporter": "python",
   "pygments_lexer": "ipython3",
   "version": "3.10.5"
  },
  "orig_nbformat": 4
 },
 "nbformat": 4,
 "nbformat_minor": 2
}
