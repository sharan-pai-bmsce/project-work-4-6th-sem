{
 "cells": [
  {
   "cell_type": "code",
   "execution_count": 8,
   "metadata": {},
   "outputs": [],
   "source": [
    "import json\n",
    "import numpy as np\n",
    "from shapely.geometry import Point\n",
    "from shapely.geometry.polygon import Polygon\n",
    "from shapely.geometry import shape\n",
    "import pandas as pd"
   ]
  },
  {
   "cell_type": "code",
   "execution_count": null,
   "metadata": {},
   "outputs": [],
   "source": []
  },
  {
   "cell_type": "code",
   "execution_count": 10,
   "metadata": {},
   "outputs": [],
   "source": [
    "precincts=json.load(open('first-phase/New York/New York Police Precincts.geojson','r'))\n",
    "# precincts=precincts['features']\n",
    "# print(len(precincts))\n",
    "\n",
    "polygons=[]\n",
    "# precincts[0]\n",
    "cx,cy=0,0\n",
    "for precinct in precincts['features']:\n",
    "  precinct['precinct']=precinct['properties']['precinct']\n",
    "  polygons.append([shape(precinct['geometry']),precinct['properties']['precinct']])\n",
    "\n",
    "long=0\n",
    "lat=0\n",
    "for p in polygons:\n",
    "  cord=p[0].centroid.coords[0]\n",
    "  long+=cord[0]\n",
    "  lat+=cord[1]\n",
    "long/=len(polygons)\n",
    "lat/=len(polygons)\n",
    "with open('./new-york-city.json','w') as file:\n",
    "  json.dump({\n",
    "    \"latitude\": lat, \n",
    "    \"longitude\": long,\n",
    "  },file)\n",
    "# precincts['features']\n",
    "# polygons[0][0].centroid.coords[0]"
   ]
  },
  {
   "cell_type": "code",
   "execution_count": 11,
   "metadata": {},
   "outputs": [],
   "source": [
    "df=pd.read_csv('./first-phase/Seattle/Seattle Db.csv')\n",
    "prev_crime_data=pd.read_csv('./seattle-precinct-wise-dataset.csv')\n",
    "df=df[10001:20000]\n",
    "list1=[]\n",
    "for polygon in polygons:\n",
    "  c=0\n",
    "  count={'precinct': polygon[1],'total':0}\n",
    "  # count=0\n",
    "  for index,row in df.iterrows():\n",
    "    if polygon[0].contains(Point(row['Longitude'],row['Latitude'])):\n",
    "      if row['Offence'] not in count:\n",
    "        count[row['Offence']]=0\n",
    "      count[row['Offence']]+=1\n",
    "      count['total']+=1\n",
    "      break\n",
    "      # df.drop(index)\n",
    "  list1.append(count)"
   ]
  },
  {
   "cell_type": "code",
   "execution_count": null,
   "metadata": {},
   "outputs": [],
   "source": [
    "# list1\n",
    "# crime_data=pd.DataFrame.from_dict(list1)\n",
    "# print(prev_crime_data.head(1))\n",
    "# print(crime_data.head(1))\n",
    "# x=crime_data.head(1).add(prev_crime_data.head(1))\n",
    "# x\n",
    "prev_crime_data.to_csv('seattle-precinct-wise-dataset.csv')"
   ]
  },
  {
   "cell_type": "code",
   "execution_count": 5,
   "metadata": {},
   "outputs": [],
   "source": [
    "import plotly.express as px\n",
    "import plotly.io as pio\n",
    "pio.renderers.default='chrome'\n",
    "crime_data=pd.read_csv('seattle-precinct-wise-dataset.csv')\n",
    "data=json.load(open('./seattle.json'))\n",
    "lat=data['latitude']\n",
    "long=data['longitude']"
   ]
  },
  {
   "cell_type": "code",
   "execution_count": 6,
   "metadata": {},
   "outputs": [],
   "source": [
    "fig=px.choropleth_mapbox(crime_data,locations='precinct',featureidkey=\"properties.precinct\",geojson=precincts,color='total',color_continuous_scale='ylorrd')\n",
    "# fig.update_geos(fitbounds=\"locations\", visible=False)\n",
    "fig.update_layout(mapbox_style=\"carto-positron\", \n",
    "                  mapbox_zoom=9.5,\n",
    "                  mapbox_center={\"lat\": lat, \"lon\": long},\n",
    "                  margin={\"r\":0,\"t\":0,\"l\":0,\"b\":0},\n",
    "                  uirevision='constant')\n",
    "fig.write_html('first_figure-3.html')"
   ]
  },
  {
   "cell_type": "code",
   "execution_count": 24,
   "metadata": {},
   "outputs": [],
   "source": [
    "\n"
   ]
  }
 ],
 "metadata": {
  "interpreter": {
   "hash": "52634da84371cba311ea128a5ea7cdc41ff074b781779e754b270ff9f8153cee"
  },
  "kernelspec": {
   "display_name": "Python 3.10.4 64-bit",
   "language": "python",
   "name": "python3"
  },
  "language_info": {
   "codemirror_mode": {
    "name": "ipython",
    "version": 3
   },
   "file_extension": ".py",
   "mimetype": "text/x-python",
   "name": "python",
   "nbconvert_exporter": "python",
   "pygments_lexer": "ipython3",
   "version": "3.10.5"
  },
  "orig_nbformat": 4
 },
 "nbformat": 4,
 "nbformat_minor": 2
}
