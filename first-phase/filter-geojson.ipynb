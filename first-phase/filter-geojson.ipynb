{
 "cells": [
  {
   "cell_type": "code",
   "execution_count": 1,
   "metadata": {},
   "outputs": [],
   "source": [
    "import json"
   ]
  },
  {
   "cell_type": "code",
   "execution_count": 4,
   "metadata": {},
   "outputs": [],
   "source": [
    "police=json.load(open('./Seattle/spd-mcpp-areas.geojson','r'))\n",
    "\n",
    "police={\n",
    "    'type': police['type'],\n",
    "    'name': 'Police Precincts',\n",
    "    'features': [{'properties': {'precinct': pol['properties']['NAME']},'geometry': pol['geometry']} for pol in police['features']]\n",
    "}\n",
    "json_object = json.dumps(police)\n",
    "  \n",
    "# Writing to sample.json\n",
    "with open(\"./Seattle/Seattle-prcinct.geojson\", \"w\") as outfile:\n",
    "    outfile.write(json_object)"
   ]
  }
 ],
 "metadata": {
  "kernelspec": {
   "display_name": "Python 3.10.4 64-bit",
   "language": "python",
   "name": "python3"
  },
  "language_info": {
   "codemirror_mode": {
    "name": "ipython",
    "version": 3
   },
   "file_extension": ".py",
   "mimetype": "text/x-python",
   "name": "python",
   "nbconvert_exporter": "python",
   "pygments_lexer": "ipython3",
   "version": "3.10.4"
  },
  "orig_nbformat": 4,
  "vscode": {
   "interpreter": {
    "hash": "52634da84371cba311ea128a5ea7cdc41ff074b781779e754b270ff9f8153cee"
   }
  }
 },
 "nbformat": 4,
 "nbformat_minor": 2
}
