{
 "cells": [
  {
   "cell_type": "code",
   "execution_count": 2,
   "metadata": {},
   "outputs": [],
   "source": [
    "import pandas as pd\n",
    "import numpy as np\n",
    "import json"
   ]
  },
  {
   "cell_type": "code",
   "execution_count": 10,
   "metadata": {},
   "outputs": [],
   "source": [
    "temp=json.load(open('./Seattle/map.json'))"
   ]
  },
  {
   "cell_type": "code",
   "execution_count": 11,
   "metadata": {},
   "outputs": [
    {
     "name": "stdout",
     "output_type": "stream",
     "text": [
      "  Report Number   Offense ID Offense Start DateTime Offense End DateTime  \\\n",
      "0   2020-044620  12605873663         02-05-20 10:10                  NaN   \n",
      "1   2020-044452  12605598696         02-03-20 08:00       02-04-20 08:00   \n",
      "2   2020-044465  12605567653         02-02-20 20:30       02-02-20 21:30   \n",
      "3   2020-044225  12605174036         02-05-20 01:17       02-05-20 02:21   \n",
      "4   2020-044076  12605081469         02-05-20 00:51                  NaN   \n",
      "\n",
      "  Report DateTime Group A B Crime Against Category  \\\n",
      "0  02-05-20 11:24         A                SOCIETY   \n",
      "1  02-05-20 10:06         A               PROPERTY   \n",
      "2  02-05-20 09:39         A               PROPERTY   \n",
      "3  02-05-20 03:30         A               PROPERTY   \n",
      "4  02-05-20 00:51         B                SOCIETY   \n",
      "\n",
      "                       Offense Parent Group  \\\n",
      "0                    DRUG/NARCOTIC OFFENSES   \n",
      "1                             LARCENY-THEFT   \n",
      "2                                   ROBBERY   \n",
      "3  DESTRUCTION/DAMAGE/VANDALISM OF PROPERTY   \n",
      "4               DRIVING UNDER THE INFLUENCE   \n",
      "\n",
      "                                       Offense Offense Code Precinct Sector  \\\n",
      "0                     Drug/Narcotic Violations          35A        W      Q   \n",
      "1  Theft of Motor Vehicle Parts or Accessories          23G        N      J   \n",
      "2                                      Robbery          120        N      U   \n",
      "3     Destruction/Damage/Vandalism of Property          290        W      Q   \n",
      "4                  Driving Under the Influence          90D        N      B   \n",
      "\n",
      "  Beat               MCPP             100 Block Address   Longitude   Latitude  \n",
      "0   Q1           MAGNOLIA      32XX BLOCK OF 23RD AVE W -122.385974  47.649387  \n",
      "1   J3  ROOSEVELT/RAVENNA      63XX BLOCK OF 5TH AVE NE -122.323399  47.675118  \n",
      "2   U3  ROOSEVELT/RAVENNA  26TH AVE NE / NE BLAKELEY ST -122.299552  47.666384  \n",
      "3   Q1           MAGNOLIA       22XX BLOCK OF W RAYE ST -122.384865  47.642927  \n",
      "4   B2      BALLARD SOUTH       NW 46TH ST / 8TH AVE NW -122.366195  47.662193  \n"
     ]
    }
   ],
   "source": [
    "df=pd.read_csv('./Seattle/Seattle-PD-Stats.csv')\n",
    "dp=[]\n",
    "long=[]\n",
    "lat=[]\n",
    "n=len(df['Offense'])\n",
    "for i in range(0,n):\n",
    "    if temp.__contains__(df['Offense'][i]):\n",
    "        dp.append(temp[df['Offense'][i]])\n",
    "    else:\n",
    "        dp.append('Others')\n",
    "    lat.append(df['Latitude'][i])\n",
    "    long.append(df['Longitude'][i])\n",
    "newdf=pd.DataFrame({\n",
    "    'Offence':dp,\n",
    "    'Latitude':lat,\n",
    "    'Longitude':long\n",
    "    })\n",
    "newdf.to_csv('./Seattle/Seattle Db.csv',index=False)"
   ]
  }
 ],
 "metadata": {
  "interpreter": {
   "hash": "52634da84371cba311ea128a5ea7cdc41ff074b781779e754b270ff9f8153cee"
  },
  "kernelspec": {
   "display_name": "Python 3.10.4 64-bit",
   "language": "python",
   "name": "python3"
  },
  "language_info": {
   "codemirror_mode": {
    "name": "ipython",
    "version": 3
   },
   "file_extension": ".py",
   "mimetype": "text/x-python",
   "name": "python",
   "nbconvert_exporter": "python",
   "pygments_lexer": "ipython3",
   "version": "3.10.4"
  },
  "orig_nbformat": 4
 },
 "nbformat": 4,
 "nbformat_minor": 2
}
