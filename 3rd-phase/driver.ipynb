{
 "cells": [
  {
   "cell_type": "code",
   "execution_count": 40,
   "metadata": {},
   "outputs": [],
   "source": [
    "import pandas as pd\n",
    "age=63\n",
    "fileArr=[\n",
    "   './crimes/arson.csv', \n",
    "    './crimes/assault.csv',\n",
    "    './crimes/fraud.csv',\n",
    "    './crimes/gun-violence.csv',\n",
    "    './crimes/harrassment.csv',\n",
    "    './crimes/motor-vehicle-accidents.csv',\n",
    "    './crimes/murder.csv',\n",
    "    './crimes/robbery.csv',\n",
    "    './crimes/sex-crime.csv',\n",
    "    './crimes/drug-overdose-victims.csv',\n",
    "    './crimes/Missing-Persons.csv',\n",
    "    './crimes/Human-Trafficking.csv'\n",
    "]\n",
    "file=[]\n",
    "for path in fileArr:\n",
    "    file.append(pd.read_csv(path))\n",
    "    # low=[]\n",
    "    # up=[]\n",
    "    # for index,row in df.iterrows():\n",
    "    #     val=row[0].split('-')\n",
    "    #     low.append(int(val[0]))\n",
    "    #     up.append(int(val[1]))\n",
    "    # df['low']=low\n",
    "    # df['up']=up\n",
    "    # df=df.iloc[:,1:]\n",
    "    # df.to_csv(path,index=False)"
   ]
  },
  {
   "cell_type": "code",
   "execution_count": 41,
   "metadata": {},
   "outputs": [
    {
     "name": "stdout",
     "output_type": "stream",
     "text": [
      "[{'Arson': 3.0}, {'Assault': 1.0}, {'Murder': 1.0}, {'Theft': 1.0}, {'Robbery': 1.0}, {'Sex Crime': 1.0}]\n"
     ]
    },
    {
     "data": {
      "text/html": [
       "<div>\n",
       "<style scoped>\n",
       "    .dataframe tbody tr th:only-of-type {\n",
       "        vertical-align: middle;\n",
       "    }\n",
       "\n",
       "    .dataframe tbody tr th {\n",
       "        vertical-align: top;\n",
       "    }\n",
       "\n",
       "    .dataframe thead th {\n",
       "        text-align: right;\n",
       "    }\n",
       "</style>\n",
       "<table border=\"1\" class=\"dataframe\">\n",
       "  <thead>\n",
       "    <tr style=\"text-align: right;\">\n",
       "      <th></th>\n",
       "      <th>precinct</th>\n",
       "      <th>total</th>\n",
       "      <th>Theft</th>\n",
       "      <th>Robbery</th>\n",
       "      <th>Murder</th>\n",
       "      <th>Assault</th>\n",
       "      <th>Sex Crime</th>\n",
       "      <th>Arson</th>\n",
       "    </tr>\n",
       "  </thead>\n",
       "  <tbody>\n",
       "    <tr>\n",
       "      <th>0</th>\n",
       "      <td>401</td>\n",
       "      <td>9.0</td>\n",
       "      <td>8.0</td>\n",
       "      <td>1.0</td>\n",
       "      <td>0.0</td>\n",
       "      <td>0.0</td>\n",
       "      <td>0.0</td>\n",
       "      <td>0.0</td>\n",
       "    </tr>\n",
       "    <tr>\n",
       "      <th>1</th>\n",
       "      <td>201</td>\n",
       "      <td>5.0</td>\n",
       "      <td>4.0</td>\n",
       "      <td>1.0</td>\n",
       "      <td>0.0</td>\n",
       "      <td>0.0</td>\n",
       "      <td>0.0</td>\n",
       "      <td>0.0</td>\n",
       "    </tr>\n",
       "  </tbody>\n",
       "</table>\n",
       "</div>"
      ],
      "text/plain": [
       "   precinct  total  Theft  Robbery  Murder  Assault  Sex Crime  Arson\n",
       "0       401    9.0    8.0      1.0     0.0      0.0        0.0    0.0\n",
       "1       201    5.0    4.0      1.0     0.0      0.0        0.0    0.0"
      ]
     },
     "execution_count": 41,
     "metadata": {},
     "output_type": "execute_result"
    }
   ],
   "source": [
    "crime_data=pd.read_csv('../wdc-precinct-wise-dataset.csv')\n",
    "crime_data=crime_data.iloc[:,1:]\n",
    "crimes=crime_data.columns\n",
    "li=[]\n",
    "# print(crime_data.head(2))\n",
    "# for column in crime_data.columns:\n",
    "    # print(crime_data.columns[column])\n",
    "for df in file:\n",
    "    for _,row in df.iterrows():\n",
    "        key=row.keys()[0]\n",
    "        if key in crimes:\n",
    "            if age>=row['low'] and age<=row['up']:\n",
    "                if key=='Robbery':\n",
    "                    li.append({'Theft': row['Points']})\n",
    "                    crime_data['Theft']=crime_data['Theft']*row['Points']\n",
    "                li.append({key: row['Points']})\n",
    "                crime_data[key]=crime_data[key]*row['Points']\n",
    "                # print(crime_data.head(1))\n",
    "                break\n",
    "        else:\n",
    "            break\n",
    "if 'Others' in crimes:\n",
    "    crime_data['Others']=crime_data['Others']*2.5\n",
    "    li.append({'Others':2.5})\n",
    "if 'Public Nuisance' in crimes:\n",
    "    crime_data['Public Nuisance']=crime_data['Public Nuisance']*2.5\n",
    "    li.append({'Public Nuisance':2.5})\n",
    "print(li)\n",
    "li=[]\n",
    "crime_data=crime_data.fillna(0)\n",
    "for index,row in crime_data.iterrows():\n",
    "    li.append(sum([float(x) for x in row[2:].values]))\n",
    "crime_data['total']=li\n",
    "# crime_data\n",
    "crime_data.head(2)"
   ]
  },
  {
   "cell_type": "code",
   "execution_count": 42,
   "metadata": {},
   "outputs": [],
   "source": [
    "import json\n",
    "from shapely.geometry import Point\n",
    "from shapely.geometry.polygon import Polygon\n",
    "from shapely.geometry import shape\n",
    "precincts=json.load(open('../first-phase/Washington DC/WashingtonDC-precinct.geojson','r'))\n",
    "# precincts=precincts['features']\n",
    "# print(len(precincts))\n",
    "\n",
    "# polygons=[]\n",
    "# # precincts[0]\n",
    "# for precinct in precincts['features']:\n",
    "#   precinct['precinct']=precinct['properties']['precinct']\n",
    "#   polygons.append([shape(precinct['geometry']),precinct['properties']['precinct']])"
   ]
  },
  {
   "cell_type": "code",
   "execution_count": 43,
   "metadata": {},
   "outputs": [],
   "source": [
    "import plotly.express as px\n",
    "import plotly.io as pio\n",
    "import json\n",
    "pio.renderers.default='chrome'\n",
    "# crime_data=pd.read_csv('seattle-precinct-wise-dataset.csv')\n",
    "data=json.load(open('../washington-city.json'))\n",
    "lat=data['latitude']\n",
    "long=data['longitude']"
   ]
  },
  {
   "cell_type": "code",
   "execution_count": 44,
   "metadata": {},
   "outputs": [],
   "source": [
    "fig=px.choropleth_mapbox(crime_data,locations='precinct',featureidkey=\"properties.precinct\",geojson=precincts,color='total',color_continuous_scale='ylorrd')\n",
    "fig.update_geos(fitbounds=\"locations\", visible=False)\n",
    "fig.update_layout(mapbox_style=\"carto-positron\", \n",
    "                  mapbox_zoom=9.5,\n",
    "                  mapbox_center={\"lat\": lat, \"lon\": long},\n",
    "                  margin={\"r\":0,\"t\":0,\"l\":0,\"b\":0},\n",
    "                  uirevision='constant')\n",
    "# fig.update_layout(margin={\"r\":0,\"t\":0,\"l\":0,\"b\":0})\n",
    "fig.write_html('../first_figure2.html')"
   ]
  }
 ],
 "metadata": {
  "kernelspec": {
   "display_name": "Python 3.10.5 64-bit",
   "language": "python",
   "name": "python3"
  },
  "language_info": {
   "codemirror_mode": {
    "name": "ipython",
    "version": 3
   },
   "file_extension": ".py",
   "mimetype": "text/x-python",
   "name": "python",
   "nbconvert_exporter": "python",
   "pygments_lexer": "ipython3",
   "version": "3.10.5"
  },
  "orig_nbformat": 4,
  "vscode": {
   "interpreter": {
    "hash": "52634da84371cba311ea128a5ea7cdc41ff074b781779e754b270ff9f8153cee"
   }
  }
 },
 "nbformat": 4,
 "nbformat_minor": 2
}
