{
 "cells": [
  {
   "cell_type": "code",
   "execution_count": 2,
   "metadata": {},
   "outputs": [],
   "source": [
    "import pandas as pd\n",
    "import math"
   ]
  },
  {
   "cell_type": "code",
   "execution_count": 23,
   "metadata": {},
   "outputs": [],
   "source": [
    "df=pd.read_csv('./sex-crime.csv')\n",
    "df.iloc[:,1]\n",
    "val=sum(df.iloc[:,1])\n",
    "li=[]\n",
    "for index,row in df.iterrows():\n",
    "    value=row['sex crime']\n",
    "    li.append(value/val)\n",
    "\n",
    "df['Normalized']=li\n",
    "max1=max(df.iloc[:,1].to_list())\n",
    "ref=max1/5\n",
    "\n",
    "li=[]\n",
    "for index,row in df.iterrows():\n",
    "    value=row['sex crime']\n",
    "    if value>=4*ref:\n",
    "        li.append(5)\n",
    "    elif value>=3*ref:\n",
    "        li.append(4)\n",
    "    elif value>=2*ref:\n",
    "        li.append(3)\n",
    "    elif value>=ref:\n",
    "        li.append(2)\n",
    "    else:\n",
    "        li.append(1)\n",
    "df['Points']=li\n",
    "df.to_csv('./sex-crime.csv',index=False)"
   ]
  }
 ],
 "metadata": {
  "kernelspec": {
   "display_name": "Python 3.10.5 64-bit",
   "language": "python",
   "name": "python3"
  },
  "language_info": {
   "codemirror_mode": {
    "name": "ipython",
    "version": 3
   },
   "file_extension": ".py",
   "mimetype": "text/x-python",
   "name": "python",
   "nbconvert_exporter": "python",
   "pygments_lexer": "ipython3",
   "version": "3.10.5"
  },
  "orig_nbformat": 4,
  "vscode": {
   "interpreter": {
    "hash": "52634da84371cba311ea128a5ea7cdc41ff074b781779e754b270ff9f8153cee"
   }
  }
 },
 "nbformat": 4,
 "nbformat_minor": 2
}
