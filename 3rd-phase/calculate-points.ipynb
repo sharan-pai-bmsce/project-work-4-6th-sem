{
 "cells": [
  {
   "cell_type": "code",
   "execution_count": 3,
   "metadata": {},
   "outputs": [],
   "source": [
    "import pandas as pd\n",
    "import math"
   ]
  },
  {
   "cell_type": "code",
   "execution_count": 7,
   "metadata": {},
   "outputs": [],
   "source": [
    "df=pd.read_csv('./Missing-Persons - Sheet1.csv')\n",
    "df.iloc[:,1]\n",
    "val=sum(df.iloc[:,1])\n",
    "li=[]\n",
    "for index,row in df.iterrows():\n",
    "    value=row['Missing']\n",
    "    li.append(value/val)\n",
    "\n",
    "df['Normalized']=li\n",
    "max1=max(df.iloc[:,1].to_list())\n",
    "ref=max1/5\n",
    "\n",
    "li=[]\n",
    "for index,row in df.iterrows():\n",
    "    value=row['Missing']\n",
    "    if value>=4*ref:\n",
    "        li.append(5)\n",
    "    elif value>=3*ref:\n",
    "        li.append(4)\n",
    "    elif value>=2*ref:\n",
    "        li.append(3)\n",
    "    elif value>=ref:\n",
    "        li.append(2)\n",
    "    else:\n",
    "        li.append(1)\n",
    "df['Points']=li\n",
    "df.to_csv('./Missing-Persons - Sheet1.csv',index=False)"
   ]
  },
  {
   "cell_type": "code",
   "execution_count": 8,
   "metadata": {},
   "outputs": [],
   "source": [
    "df=pd.read_csv('./Missing-Persons - Sheet1.csv')\n",
    "low=[]\n",
    "up=[]\n",
    "for index,row in df.iterrows():\n",
    "    val=row[0].split('-')\n",
    "    low.append(int(val[0]))\n",
    "    up.append(int(val[1]))\n",
    "df['low']=low\n",
    "df['up']=up\n",
    "df=df.iloc[:,1:]\n",
    "df.to_csv('./Missing-Persons - Sheet1.csv',index=False)"
   ]
  }
 ],
 "metadata": {
  "kernelspec": {
   "display_name": "Python 3.10.5 64-bit",
   "language": "python",
   "name": "python3"
  },
  "language_info": {
   "codemirror_mode": {
    "name": "ipython",
    "version": 3
   },
   "file_extension": ".py",
   "mimetype": "text/x-python",
   "name": "python",
   "nbconvert_exporter": "python",
   "pygments_lexer": "ipython3",
   "version": "3.10.5"
  },
  "orig_nbformat": 4,
  "vscode": {
   "interpreter": {
    "hash": "52634da84371cba311ea128a5ea7cdc41ff074b781779e754b270ff9f8153cee"
   }
  }
 },
 "nbformat": 4,
 "nbformat_minor": 2
}
